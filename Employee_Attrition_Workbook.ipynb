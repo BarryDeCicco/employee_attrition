{
  "nbformat": 4,
  "nbformat_minor": 0,
  "metadata": {
    "colab": {
      "provenance": [],
      "authorship_tag": "ABX9TyPnMgMGgWS6JujN671df7Fd",
      "include_colab_link": true
    },
    "kernelspec": {
      "name": "python3",
      "display_name": "Python 3"
    },
    "language_info": {
      "name": "python"
    }
  },
  "cells": [
    {
      "cell_type": "markdown",
      "metadata": {
        "id": "view-in-github",
        "colab_type": "text"
      },
      "source": [
        "<a href=\"https://colab.research.google.com/github/BarryDeCicco/employee_attrition/blob/main/Employee_Attrition_Workbook.ipynb\" target=\"_parent\"><img src=\"https://colab.research.google.com/assets/colab-badge.svg\" alt=\"Open In Colab\"/></a>"
      ]
    },
    {
      "cell_type": "markdown",
      "source": [
        "# Employee Attrition Workbook"
      ],
      "metadata": {
        "id": "VpPFy2da2roH"
      }
    },
    {
      "cell_type": "markdown",
      "source": [
        "In this workbook, I experiment with analyses on the data set 'WA_Fn-UseC_-HR-Employee-Attrition.csv', which is used in many Kaggle projects."
      ],
      "metadata": {
        "id": "PDNKlduk211W"
      }
    },
    {
      "cell_type": "code",
      "source": [
        "import pandas as pd\n",
        "import numpy as np\n",
        "import matplotlib.pyplot as plt\n",
        "import seaborn as sns"
      ],
      "metadata": {
        "id": "ctILvEfH21jz"
      },
      "execution_count": 1,
      "outputs": []
    },
    {
      "cell_type": "code",
      "execution_count": null,
      "metadata": {
        "id": "fqXlqq8e2lm4"
      },
      "outputs": [],
      "source": [
        "df = pd.read_csv(\"/kaggle/input/ibm-hr-analytics-attrition-dataset/WA_Fn-UseC_-HR-Employee-Attrition.csv\")"
      ]
    }
  ]
}